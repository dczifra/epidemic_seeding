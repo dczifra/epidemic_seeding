{
 "cells": [
  {
   "cell_type": "code",
   "execution_count": 1,
   "id": "d55cd799",
   "metadata": {},
   "outputs": [],
   "source": [
    "import csv\n",
    "import seaborn as sns\n",
    "import pandas as pd\n",
    "import matplotlib.pyplot as plt\n",
    "\n",
    "sns.set_theme(style=\"whitegrid\")"
   ]
  },
  {
   "cell_type": "code",
   "execution_count": 4,
   "id": "7b55d6b0",
   "metadata": {},
   "outputs": [
    {
     "name": "stderr",
     "output_type": "stream",
     "text": [
      "/home/doma945/p36/lib/python3.8/site-packages/IPython/core/interactiveshell.py:3444: DtypeWarning: Columns (227,229,231,235,237,241,475,485,546,584,586,588) have mixed types.Specify dtype option on import or set low_memory=False.\n",
      "  exec(code_obj, self.user_global_ns, self.user_ns)\n"
     ]
    }
   ],
   "source": [
    "df = pd.read_csv(\"covid_pooled_public_1.0.0.csv\",\n",
    "           sep=',',\n",
    "           header=0)"
   ]
  },
  {
   "cell_type": "code",
   "execution_count": 15,
   "id": "7c17d6c7",
   "metadata": {},
   "outputs": [],
   "source": [
    "import numpy as np\n",
    "\n",
    "def survey(results, category_names, figsize=(12,8)):\n",
    "    \"\"\"\n",
    "    Parameters\n",
    "    ----------\n",
    "    results : dict\n",
    "        A mapping from question labels to a list of answers per category.\n",
    "        It is assumed all lists contain the same number of entries and that\n",
    "        it matches the length of *category_names*.\n",
    "    category_names : list of str\n",
    "        The category labels.\n",
    "    \"\"\"\n",
    "    labels = list(results.keys())\n",
    "    data = np.array(list(results.values()))\n",
    "    data_cum = data.cumsum(axis=1)\n",
    "    category_colors = plt.get_cmap('seismic')(\n",
    "        np.linspace(0.15, 0.85, data.shape[1]))\n",
    "\n",
    "    fig, ax = plt.subplots(figsize=figsize)\n",
    "    ax.invert_yaxis()\n",
    "    ax.xaxis.set_visible(False)\n",
    "    ax.set_xlim(0, np.sum(data, axis=1).max())\n",
    "\n",
    "    for i, (colname, color) in enumerate(zip(category_names, category_colors)):\n",
    "        widths = data[:, i]\n",
    "        starts = data_cum[:, i] - widths\n",
    "        rects = ax.barh(labels, widths, left=starts, height=0.5,\n",
    "                        label=colname, color=color)\n",
    "\n",
    "        r, g, b, _ = color\n",
    "        text_color = 'white' if r * g * b < 0.1 else 'black'\n",
    "        ax.bar_label(rects, label_type='center', color=text_color)\n",
    "    ax.legend(ncol=len(category_names), bbox_to_anchor=(0, 0.95),\n",
    "              loc='lower left', fontsize='small')\n",
    "\n",
    "    return fig, ax\n",
    "\n",
    "def mysurvey(df, Q_key, Q_name, category_names, figsize=(12,8)):\n",
    "    results = {}\n",
    "    for key,name in zip(Q_key, Q_name):\n",
    "        x = df.groupby([key]).size()\n",
    "        results[name]=np.round(100*x.array/np.sum(x.array), decimals=2)\n",
    "    survey(results, x.index, figsize)"
   ]
  },
  {
   "cell_type": "code",
   "execution_count": null,
   "id": "2b31e637",
   "metadata": {},
   "outputs": [],
   "source": []
  },
  {
   "cell_type": "code",
   "execution_count": 32,
   "id": "6e1a0697",
   "metadata": {},
   "outputs": [],
   "source": [
    "att_sev= dict(df.groupby(\"att_covid_selfsevere\").size())"
   ]
  },
  {
   "cell_type": "code",
   "execution_count": 68,
   "id": "14f266e7",
   "metadata": {},
   "outputs": [
    {
     "data": {
      "image/png": "[encoded data removed]",
      "text/plain": [
       "<Figure size 720x144 with 1 Axes>"
      ]
     },
     "metadata": {},
     "output_type": "display_data"
    }
   ],
   "source": [
    "xlabels=['Strongly disagree', \"Somewhat disagree\", 'Neutral', \"Somewhat agree\", \"Strongly disagree\"]\n",
    "ys = np.array([att_sev[l] for l in xlabels])\n",
    "ys = np.round(100*ys/np.sum(ys), decimals=2)\n",
    "\n",
    "labels = [\"I am concerned about covid severe reaction\"]\n",
    "data = np.array([ys])\n",
    "data_cum = data.cumsum(axis=1)\n",
    "category_colors = plt.get_cmap('seismic')(\n",
    "    np.linspace(0.15, 0.85, data.shape[1]))\n",
    "\n",
    "fig, ax = plt.subplots(figsize=(10,2))\n",
    "ax.invert_yaxis()\n",
    "ax.xaxis.set_visible(False)\n",
    "ax.set_xlim(0, np.sum(data, axis=1).max())\n",
    "for i, (colname, color) in enumerate(zip(xlabels, category_colors)):\n",
    "    widths = data[:, i]\n",
    "    starts = data_cum[:, i] - widths\n",
    "    rects = ax.barh(labels, widths, left=starts, height=0.5,\n",
    "                    label=colname, color=color)\n",
    "\n",
    "    r, g, b, _ = color\n",
    "    text_color = 'white' if r * g * b < 0.1 else 'black'\n",
    "    ax.bar_label(rects, label_type='center', color=text_color)\n",
    "\n",
    "ax.legend(ncol=len(xlabels), bbox_to_anchor=(0, 0.95),\n",
    "          loc='lower left', fontsize='small')\n",
    "plt.show()"
   ]
  },
  {
   "cell_type": "code",
   "execution_count": null,
   "id": "7bf88988",
   "metadata": {},
   "outputs": [],
   "source": []
  },
  {
   "cell_type": "code",
   "execution_count": null,
   "id": "972f447c",
   "metadata": {},
   "outputs": [],
   "source": []
  }
 ],
 "metadata": {
  "kernelspec": {
   "display_name": "Python 3 (ipykernel)",
   "language": "python",
   "name": "python3"
  },
  "language_info": {
   "codemirror_mode": {
    "name": "ipython",
    "version": 3
   },
   "file_extension": ".py",
   "mimetype": "text/x-python",
   "name": "python",
   "nbconvert_exporter": "python",
   "pygments_lexer": "ipython3",
   "version": "3.8.10"
  }
 },
 "nbformat": 4,
 "nbformat_minor": 5
}
